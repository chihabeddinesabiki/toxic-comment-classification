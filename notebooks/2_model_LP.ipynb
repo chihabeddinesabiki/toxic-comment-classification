{
 "cells": [
  {
   "cell_type": "markdown",
   "metadata": {},
   "source": [
    "# 🧠 Notebook : Entraînement du Modèle LP (TF-IDF + Logistic Regression)"
   ]
  },
  {
   "cell_type": "code",
   "execution_count": 1,
   "metadata": {},
   "outputs": [
    {
     "name": "stdout",
     "output_type": "stream",
     "text": [
      "Colonnes : Index(['text_clean', 'toxic'], dtype='object')\n",
      "              precision    recall  f1-score   support\n",
      "\n",
      "           0       0.95      0.89      0.92      7036\n",
      "           1       0.90      0.96      0.93      6996\n",
      "\n",
      "    accuracy                           0.93     14032\n",
      "   macro avg       0.93      0.93      0.93     14032\n",
      "weighted avg       0.93      0.93      0.93     14032\n",
      "\n",
      "✅ Modèle LP sauvegardé avec succès.\n"
     ]
    }
   ],
   "source": [
    "import pandas as pd\n",
    "from sklearn.feature_extraction.text import TfidfVectorizer\n",
    "from sklearn.linear_model import LogisticRegression\n",
    "from sklearn.model_selection import train_test_split\n",
    "from sklearn.metrics import classification_report\n",
    "import joblib\n",
    "\n",
    "# 📥 Charger les données nettoyées\n",
    "df = pd.read_csv(\"../data/train_clean.csv\")\n",
    "print(\"Colonnes :\", df.columns)\n",
    "\n",
    "# 🧠 Séparer les données\n",
    "X_train, X_test, y_train, y_test = train_test_split(df[\"text_clean\"], df[\"toxic\"], test_size=0.2, random_state=42)\n",
    "\n",
    "# 🔤 Vectorisation TF-IDF\n",
    "vectorizer = TfidfVectorizer(max_features=5000)\n",
    "X_train_vect = vectorizer.fit_transform(X_train)\n",
    "X_test_vect = vectorizer.transform(X_test)\n",
    "\n",
    "# 🔍 Modèle : Régression Logistique\n",
    "model = LogisticRegression(max_iter=200)\n",
    "model.fit(X_train_vect, y_train)\n",
    "\n",
    "# 📊 Évaluation\n",
    "y_pred = model.predict(X_test_vect)\n",
    "print(classification_report(y_test, y_pred))\n",
    "\n",
    "# 💾 Sauvegarder le modèle et le vecteur\n",
    "joblib.dump(model, \"../models/model_LP.pkl\")\n",
    "joblib.dump(vectorizer, \"../models/vectorizer_LP.pkl\")\n",
    "print(\"✅ Modèle LP sauvegardé avec succès.\")"
   ]
  }
 ],
 "metadata": {
  "kernelspec": {
   "display_name": "venv",
   "language": "python",
   "name": "python3"
  },
  "language_info": {
   "codemirror_mode": {
    "name": "ipython",
    "version": 3
   },
   "file_extension": ".py",
   "mimetype": "text/x-python",
   "name": "python",
   "nbconvert_exporter": "python",
   "pygments_lexer": "ipython3",
   "version": "3.10.0"
  }
 },
 "nbformat": 4,
 "nbformat_minor": 2
}
